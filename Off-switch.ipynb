{
 "cells": [
  {
   "cell_type": "markdown",
   "metadata": {},
   "source": [
    "### The Off-Switch Game\n",
    "##### Dylan Hadfield-Menell, Anca Dragan, Pieter Abbeel, Stuart Russell\n",
    "##### https://arxiv.org/pdf/1611.08219.pdf"
   ]
  },
  {
   "cell_type": "markdown",
   "metadata": {
    "collapsed": true
   },
   "source": [
    "[ Reproduction in progress ]"
   ]
  },
  {
   "cell_type": "code",
   "execution_count": 5,
   "metadata": {
    "collapsed": true
   },
   "outputs": [],
   "source": [
    "import matplotlib.pyplot as plt\n",
    "%matplotlib inline\n",
    "import numpy as np"
   ]
  },
  {
   "cell_type": "code",
   "execution_count": 6,
   "metadata": {
    "collapsed": false
   },
   "outputs": [],
   "source": [
    "class Robot:    \n",
    "    def belief(self, mean, sd): #B^R\n",
    "        size = 1\n",
    "        gaussian = np.random.normal(mean, sd, size)\n",
    "        return gaussian\n",
    "    \n",
    "    def incentive(self, policy, mean, sd): # delta\n",
    "        sum_wait = 0\n",
    "        length = 10000\n",
    "        Ua = []\n",
    "        for i in range(length):\n",
    "            Ua.append(self.belief(mean, sd))\n",
    "        wait = sum([policy(U) * U for U in Ua])\n",
    "        not_wait = max(sum(Ua), 0)\n",
    "        sum_wait = wait - not_wait\n",
    "        delta = sum_wait/length\n",
    "        return delta[0]\n",
    "    "
   ]
  },
  {
   "cell_type": "code",
   "execution_count": 7,
   "metadata": {
    "collapsed": false
   },
   "outputs": [],
   "source": [
    "class Human:                \n",
    "    def policy(self,utility, rational=True): #pi\n",
    "        if rational:\n",
    "            if utility >= 0:\n",
    "                return 1\n",
    "            return 0\n",
    "        return utility * np.random.normal(0.5, 0.25, 1) # irrational"
   ]
  },
  {
   "cell_type": "code",
   "execution_count": 8,
   "metadata": {
    "collapsed": false
   },
   "outputs": [],
   "source": [
    "r = Robot()\n",
    "h = Human()"
   ]
  },
  {
   "cell_type": "code",
   "execution_count": 9,
   "metadata": {
    "collapsed": false
   },
   "outputs": [
    {
     "name": "stdout",
     "output_type": "stream",
     "text": [
      "[0.0, 0.1, 0.2, 0.3, 0.4, 0.5, 0.6, 0.7, 0.8, 0.9]\n"
     ]
    }
   ],
   "source": [
    "mean_0 = []\n",
    "mean_75 = []\n",
    "mean_n25 = []\n",
    "iterations = 10\n",
    "sds = []\n",
    "for sd in range(iterations):\n",
    "    adjusted_sd = sd/float(iterations)\n",
    "    sds.append(adjusted_sd)\n",
    "    mean_0.append(r.incentive(h.policy, 0, adjusted_sd))\n",
    "    mean_75.append(r.incentive(h.policy, 0.75, adjusted_sd))\n",
    "    mean_n25.append(r.incentive(h.policy, -0.25, adjusted_sd))\n",
    "print(sds)"
   ]
  },
  {
   "cell_type": "code",
   "execution_count": 10,
   "metadata": {
    "collapsed": false
   },
   "outputs": [
    {
     "data": {
      "image/png": "[encoded data removed]",
      "text/plain": [
       "<matplotlib.figure.Figure at 0x10bd9d8d0>"
      ]
     },
     "metadata": {},
     "output_type": "display_data"
    }
   ],
   "source": [
    "# plt.plot(ten, mean_0, \"g^\", ten,mean_34,\"b^\", ten, mean_n14, \"r^\")\n",
    "fig,ax = plt.subplots(1)\n",
    "\n",
    "ax.plot(mean_75,\"bo--\", mean_n25, \"ro--\", mean_0, \"go--\")\n",
    "ax.text(4.9,0.25, 'E[Ua]=0', color='green', rotation=35)\n",
    "ax.text(7.2,0.25, 'E[Ua]=-1/4', color='red', rotation=35)\n",
    "ax.text(8,0.13, 'E[Ua]=3/4', color='blue', rotation=35)\n",
    "ax.set_yticklabels([])\n",
    "ax.set_xticklabels([])\n",
    "\n",
    "plt.xlabel(r'$\\sigma$')\n",
    "plt.ylabel(r'$\\Delta$')\n",
    "plt.show()"
   ]
  },
  {
   "cell_type": "markdown",
   "metadata": {
    "collapsed": true
   },
   "source": [
    "Figure 2 (Left). Paper & Reproduction, respectively.\n",
    "![](https://image.ibb.co/bRZUMa/Reproduction_f2.png)"
   ]
  },
  {
   "cell_type": "code",
   "execution_count": null,
   "metadata": {
    "collapsed": true
   },
   "outputs": [],
   "source": [
    "# Figure 2, Right\n",
    "\n",
    "xlist = np.linspace(0, 1, 10)\n",
    "ylist = np.linspace(-1, 1, 3)\n",
    "X, Y = np.meshgrid(xlist, ylist)\n",
    "Z = [mean_0, mean_n25, mean_75]\n",
    "print(Z)\n",
    "plt.figure()\n",
    "\n",
    "mean_0_plt = np.full(2, 0)\n",
    "mean_75_plt = np.full(2, 0.75)\n",
    "mean_n25_plt = np.full(2, -0.25)\n",
    "\n",
    "cp = plt.contourf(X, Y, Z, cmap='Greys')\n",
    "bar = plt.colorbar(cp)\n",
    "plt.xlabel(r'$\\sigma$')\n",
    "plt.ylabel('E[Ua]')\n",
    "plt.xlim([0,1])\n",
    "plt.plot(mean_75_plt,\"bo--\", mean_n25_plt, \"ro--\", mean_0_plt, \"go--\")\n",
    "\n",
    "\n",
    "bar.set_label(r'$\\Delta$')\n",
    "\n",
    "plt.show()\n",
    "\n",
    "# TODO: Tweak Matplotlib to create Right plot"
   ]
  }
 ],
 "metadata": {
  "kernelspec": {
   "display_name": "Python 2",
   "language": "python",
   "name": "python2"
  },
  "language_info": {
   "codemirror_mode": {
    "name": "ipython",
    "version": 2
   },
   "file_extension": ".py",
   "mimetype": "text/x-python",
   "name": "python",
   "nbconvert_exporter": "python",
   "pygments_lexer": "ipython2",
   "version": "2.7.13"
  }
 },
 "nbformat": 4,
 "nbformat_minor": 2
}
